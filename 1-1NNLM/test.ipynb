{
 "cells": [
  {
   "cell_type": "code",
   "execution_count": 4,
   "metadata": {},
   "outputs": [
    {
     "name": "stdout",
     "output_type": "stream",
     "text": [
      "{0: 'milk', 1: 'dog', 2: 'love', 3: 'like', 4: 'hate', 5: 'i', 6: 'coffee'}\n",
      "{'milk': 0, 'dog': 1, 'love': 2, 'like': 3, 'hate': 4, 'i': 5, 'coffee': 6}\n",
      "[5, 3] 1\n",
      "[5, 2] 6\n",
      "[5, 4] 0\n",
      "[array([[0., 0., 0., 0., 0., 1., 0.],\n",
      "       [0., 0., 0., 1., 0., 0., 0.]]), array([[0., 0., 0., 0., 0., 1., 0.],\n",
      "       [0., 0., 1., 0., 0., 0., 0.]]), array([[0., 0., 0., 0., 0., 1., 0.],\n",
      "       [0., 0., 0., 0., 1., 0., 0.]])] [array([0., 1., 0., 0., 0., 0., 0.]), array([0., 0., 0., 0., 0., 0., 1.]), array([1., 0., 0., 0., 0., 0., 0.])]\n"
     ]
    }
   ],
   "source": [
    "import tensorflow as tf\n",
    "import numpy as np\n",
    "\n",
    "tf.reset_default_graph()\n",
    "\n",
    "sentences = [ \"i like dog\", \"i love coffee\", \"i hate milk\"]\n",
    "\n",
    "word_list = \" \".join(sentences).split()\n",
    "word_list = list(set(word_list))\n",
    "word_dict = {w: i for i, w in enumerate(word_list)}\n",
    "number_dict = {i: w for i, w in enumerate(word_list)}\n",
    "n_class = len(word_dict) # number of Vocabulary\n",
    "print(number_dict)\n",
    "print(word_dict)\n",
    "# NNLM Parameter\n",
    "n_step = 2 # number of steps ['i like', 'i love', 'i hate']\n",
    "n_hidden = 2 # number of hidden units\n",
    "\n",
    "input_batch = []\n",
    "target_batch = []\n",
    "\n",
    "for sen in sentences:\n",
    "    word = sen.split()\n",
    "    input = [word_dict[n] for n in word[:-1]]\n",
    "    target = word_dict[word[-1]]\n",
    "    print(input, target)\n",
    "    \n",
    "    \n",
    "    input_batch.append(np.eye(n_class)[input])\n",
    "    target_batch.append(np.eye(n_class)[target])\n",
    "print(input_batch,target_batch)"
   ]
  }
 ],
 "metadata": {
  "kernelspec": {
   "display_name": "fhir",
   "language": "python",
   "name": "fhir"
  },
  "language_info": {
   "codemirror_mode": {
    "name": "ipython",
    "version": 3
   },
   "file_extension": ".py",
   "mimetype": "text/x-python",
   "name": "python",
   "nbconvert_exporter": "python",
   "pygments_lexer": "ipython3",
   "version": "3.6.7"
  }
 },
 "nbformat": 4,
 "nbformat_minor": 2
}
